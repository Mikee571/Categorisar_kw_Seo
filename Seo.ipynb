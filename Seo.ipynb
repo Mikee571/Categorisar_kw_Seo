{
 "cells": [
  {
   "attachments": {},
   "cell_type": "markdown",
   "metadata": {},
   "source": [
    "# Cargar Librerias"
   ]
  },
  {
   "cell_type": "code",
   "execution_count": 22,
   "metadata": {},
   "outputs": [],
   "source": [
    "import pandas as pd\n",
    "import chardet"
   ]
  },
  {
   "attachments": {},
   "cell_type": "markdown",
   "metadata": {},
   "source": [
    "# Cargar Dataset y Categorias"
   ]
  },
  {
   "cell_type": "code",
   "execution_count": 50,
   "metadata": {},
   "outputs": [],
   "source": [
    "df = pd.read_csv('vino.csv',encoding = 'latin1',sep=';')\n",
    "\n",
    "Viña = ['almaviva','amaral','ardmore','baettig','baron philippe de rothschild','bodegas re','bollinger','bordeaux arsius','calcu','campari','casa boher','casa marin','clos de luz',\n",
    "        'clos quebrada de macul','concha y toro','cono sur','dagaz','de martino','encierra','errazuriz','finlaggan','haras de pirque','henriot','koyle','la marniniquaise',\n",
    "        'la republica','lapostolle','ld vins','lof','los boldos','louis latour','louis roederer','maquis','miguel torres','montgras','oban','san pedro','sena','taittinger',\n",
    "        'undurraga','ventisquero','veramonte','viu manent','vollereaux','yerbasanta']\n",
    "\n",
    "Tipo = ['espumosos','vinos']\n",
    "\n",
    "Cepa = ['blend','cabernet franc','cabernet sauvignon','carignan','carmenere','chardonnay','cinsaul','dry rose','garnacha','malbec','merlot','mezcla blanca','mezcla tinta',\n",
    "        'mezcla tinta - blanca','moscatel de alejandria','pinot noir','prosecco','rose','sauvignon blanc','semillon','syrah','touriga nacional','viognier']\n",
    "\n",
    "Ofertas = ['oferta','promocion','ofertas','promociones','descuento']\n",
    "\n",
    "Otro = ['mejores','mejor','mundo']\n"
   ]
  },
  {
   "attachments": {},
   "cell_type": "markdown",
   "metadata": {},
   "source": [
    "## Eliminar NaN"
   ]
  },
  {
   "cell_type": "code",
   "execution_count": null,
   "metadata": {},
   "outputs": [],
   "source": [
    "df[Viña] = df[Viña].dropna()\n",
    "df[Viña] = df[Viña].dropna()\n"
   ]
  },
  {
   "cell_type": "code",
   "execution_count": 51,
   "metadata": {},
   "outputs": [
    {
     "data": {
      "text/html": [
       "<div>\n",
       "<style scoped>\n",
       "    .dataframe tbody tr th:only-of-type {\n",
       "        vertical-align: middle;\n",
       "    }\n",
       "\n",
       "    .dataframe tbody tr th {\n",
       "        vertical-align: top;\n",
       "    }\n",
       "\n",
       "    .dataframe thead th {\n",
       "        text-align: right;\n",
       "    }\n",
       "</style>\n",
       "<table border=\"1\" class=\"dataframe\">\n",
       "  <thead>\n",
       "    <tr style=\"text-align: right;\">\n",
       "      <th></th>\n",
       "      <th>Keyword</th>\n",
       "      <th>Avg. monthly searches</th>\n",
       "      <th>Competition</th>\n",
       "      <th>Viña</th>\n",
       "      <th>Tipo</th>\n",
       "      <th>Cepa</th>\n",
       "      <th>Info</th>\n",
       "      <th>Ofertas</th>\n",
       "    </tr>\n",
       "  </thead>\n",
       "  <tbody>\n",
       "    <tr>\n",
       "      <th>0</th>\n",
       "      <td>vino tinto</td>\n",
       "      <td>5000.0</td>\n",
       "      <td>Alto</td>\n",
       "      <td>NaN</td>\n",
       "      <td>NaN</td>\n",
       "      <td>NaN</td>\n",
       "      <td>NaN</td>\n",
       "      <td>NaN</td>\n",
       "    </tr>\n",
       "    <tr>\n",
       "      <th>1</th>\n",
       "      <td>vino malbec</td>\n",
       "      <td>5000.0</td>\n",
       "      <td>Alto</td>\n",
       "      <td>NaN</td>\n",
       "      <td>NaN</td>\n",
       "      <td>NaN</td>\n",
       "      <td>NaN</td>\n",
       "      <td>NaN</td>\n",
       "    </tr>\n",
       "    <tr>\n",
       "      <th>2</th>\n",
       "      <td>vinos y licores</td>\n",
       "      <td>500.0</td>\n",
       "      <td>Alto</td>\n",
       "      <td>NaN</td>\n",
       "      <td>NaN</td>\n",
       "      <td>NaN</td>\n",
       "      <td>NaN</td>\n",
       "      <td>NaN</td>\n",
       "    </tr>\n",
       "    <tr>\n",
       "      <th>3</th>\n",
       "      <td>vinos de</td>\n",
       "      <td>50.0</td>\n",
       "      <td>Alto</td>\n",
       "      <td>NaN</td>\n",
       "      <td>NaN</td>\n",
       "      <td>NaN</td>\n",
       "      <td>NaN</td>\n",
       "      <td>NaN</td>\n",
       "    </tr>\n",
       "    <tr>\n",
       "      <th>4</th>\n",
       "      <td>el vino</td>\n",
       "      <td>500.0</td>\n",
       "      <td>Medio</td>\n",
       "      <td>NaN</td>\n",
       "      <td>NaN</td>\n",
       "      <td>NaN</td>\n",
       "      <td>NaN</td>\n",
       "      <td>NaN</td>\n",
       "    </tr>\n",
       "  </tbody>\n",
       "</table>\n",
       "</div>"
      ],
      "text/plain": [
       "           Keyword  Avg. monthly searches Competition  Viña  Tipo  Cepa  Info  \\\n",
       "0       vino tinto                 5000.0        Alto   NaN   NaN   NaN   NaN   \n",
       "1      vino malbec                 5000.0        Alto   NaN   NaN   NaN   NaN   \n",
       "2  vinos y licores                  500.0        Alto   NaN   NaN   NaN   NaN   \n",
       "3         vinos de                   50.0        Alto   NaN   NaN   NaN   NaN   \n",
       "4          el vino                  500.0       Medio   NaN   NaN   NaN   NaN   \n",
       "\n",
       "   Ofertas  \n",
       "0      NaN  \n",
       "1      NaN  \n",
       "2      NaN  \n",
       "3      NaN  \n",
       "4      NaN  "
      ]
     },
     "execution_count": 51,
     "metadata": {},
     "output_type": "execute_result"
    }
   ],
   "source": [
    "df.head()"
   ]
  }
 ],
 "metadata": {
  "kernelspec": {
   "display_name": "Python 3",
   "language": "python",
   "name": "python3"
  },
  "language_info": {
   "codemirror_mode": {
    "name": "ipython",
    "version": 3
   },
   "file_extension": ".py",
   "mimetype": "text/x-python",
   "name": "python",
   "nbconvert_exporter": "python",
   "pygments_lexer": "ipython3",
   "version": "3.9.6"
  },
  "orig_nbformat": 4
 },
 "nbformat": 4,
 "nbformat_minor": 2
}
